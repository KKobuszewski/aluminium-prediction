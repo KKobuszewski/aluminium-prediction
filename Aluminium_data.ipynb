{
  "nbformat": 4,
  "nbformat_minor": 0,
  "metadata": {
    "colab": {
      "provenance": [],
      "toc_visible": true,
      "authorship_tag": "ABX9TyMrqUvNTmwACcc+dYmgM+jH",
      "include_colab_link": true
    },
    "kernelspec": {
      "name": "python3",
      "display_name": "Python 3"
    },
    "language_info": {
      "name": "python"
    }
  },
  "cells": [
    {
      "cell_type": "markdown",
      "metadata": {
        "id": "view-in-github",
        "colab_type": "text"
      },
      "source": [
        "<a href=\"https://colab.research.google.com/github/KKobuszewski/aluminium-prediction/blob/main/Aluminium_data.ipynb\" target=\"_parent\"><img src=\"https://colab.research.google.com/assets/colab-badge.svg\" alt=\"Open In Colab\"/></a>"
      ]
    },
    {
      "cell_type": "code",
      "execution_count": null,
      "metadata": {
        "id": "0I0xlOoLNftK",
        "colab": {
          "base_uri": "https://localhost:8080/"
        },
        "outputId": "d31a384a-4f88-46c0-ffe5-7f9c5e1d93d3"
      },
      "outputs": [
        {
          "output_type": "stream",
          "name": "stdout",
          "text": [
            "Drive already mounted at /content/drive; to attempt to forcibly remount, call drive.mount(\"/content/drive\", force_remount=True).\n",
            "/content/drive/MyDrive/Stock analysis\n",
            "'ALU-LME (Metals-API).csv'       'Projekt dane finansowe.gdoc'\n",
            "'Aluminium data.ipynb'            sde_240317_161637.pdf\n",
            "'Aluminium Historical Data.csv'  'Stochastic differential equation - numerical integration.ipynb'\n"
          ]
        }
      ],
      "source": [
        "#from keras.models import Sequential\n",
        "#from keras.layers import Dense\n",
        "#from keras.layers import LSTM\n",
        "\n",
        "import requests\n",
        "import numpy as np\n",
        "import pandas as pd\n",
        "import matplotlib.pyplot as plt\n",
        "import matplotlib.dates\n",
        "\n",
        "import datetime\n",
        "#from datetime import datetime\n",
        "\n",
        "from IPython.display import HTML\n",
        "\n",
        "from google.colab import drive\n",
        "drive.mount('/content/drive')\n",
        "%cd /content/drive/MyDrive/Stock\\ analysis\n",
        "%ls"
      ]
    },
    {
      "cell_type": "markdown",
      "source": [
        "## Dailymetalprices.com\n",
        "\n",
        "Dane ze strony https://www.dailymetalprice.com/metalpricewidget.php"
      ],
      "metadata": {
        "id": "GLHTqBmk42Cc"
      }
    },
    {
      "cell_type": "code",
      "source": [
        "html_text = f'''<div id=\"DMP_2\" data-pym-src=\"//dailymetalprice.com/prices.php?c=al,cu,fe,pb,ni,zn&u=kg&x=EUR\"></div>\n",
        "\n",
        "<script type=\"text/javascript\" src=\"//dailymetalprice.com/js/pym.min.js\"></script>'''\n",
        "display(HTML(html_text))\n",
        "\n",
        "print(HTML(html_text))"
      ],
      "metadata": {
        "colab": {
          "base_uri": "https://localhost:8080/",
          "height": 294
        },
        "id": "IE43JED24OTq",
        "outputId": "13ed27fc-86a4-46b5-e47f-68b98cf8076d"
      },
      "execution_count": null,
      "outputs": [
        {
          "output_type": "display_data",
          "data": {
            "text/plain": [
              "<IPython.core.display.HTML object>"
            ],
            "text/html": [
              "<div id=\"DMP_2\" data-pym-src=\"//dailymetalprice.com/prices.php?c=al,cu,fe,pb,ni,zn&u=kg&x=EUR\"></div>\n",
              "\n",
              "<script type=\"text/javascript\" src=\"//dailymetalprice.com/js/pym.min.js\"></script>"
            ]
          },
          "metadata": {}
        },
        {
          "output_type": "stream",
          "name": "stdout",
          "text": [
            "<IPython.core.display.HTML object>\n"
          ]
        }
      ]
    },
    {
      "cell_type": "markdown",
      "source": [
        "## Metals-API"
      ],
      "metadata": {
        "id": "MeMnYqbqrjwZ"
      }
    },
    {
      "cell_type": "markdown",
      "source": [
        "www.metals-API.com\n",
        "\n",
        "https://medium.com/@aleb/how-to-get-lme-prices-with-an-api-8ef8a3d44a42\n",
        "\n",
        "https://medium.com/python-in-plain-english/coding-stock-breakouts-in-python-a-step-by-step-guide-592211e36774\n",
        "\n",
        "\n",
        "To see how to convert value of metal in USD see https://metals-api.com/#faq."
      ],
      "metadata": {
        "id": "DuDGidrlCcfL"
      }
    },
    {
      "cell_type": "code",
      "source": [
        "api_key = '6b9sj91ewv1t3cdzud574gt7ok8afq82td7rvhqavkexspc82jflxaq9nfd3'\n",
        "\n",
        "url = f'https://metals-api.com/api/timeseries?access_key={api_key}' + \\\n",
        "       '&base=USD' + \\\n",
        "       '&start_date=2024-03-01' + \\\n",
        "       '&end_date=2024-03-31' + \\\n",
        "       '&symbols=LME-ALU'\n",
        "print(url)\n",
        "\n",
        "\n",
        "response = requests.get(url)\n",
        "response.raise_for_status()  # raises exception when not a 2xx response\n",
        "print(response.status_code)\n",
        "\n",
        "data = response.json()\n",
        "\n",
        "print(data)"
      ],
      "metadata": {
        "colab": {
          "base_uri": "https://localhost:8080/"
        },
        "id": "oKkyQECtrnyp",
        "outputId": "f8a33c2f-85c5-46e3-b7e4-5bb4666d6e08"
      },
      "execution_count": null,
      "outputs": [
        {
          "output_type": "stream",
          "name": "stdout",
          "text": [
            "https://metals-api.com/api/timeseries?access_key=6b9sj91ewv1t3cdzud574gt7ok8afq82td7rvhqavkexspc82jflxaq9nfd3&base=USD&start_date=2024-03-01&end_date=2024-03-31&symbols=LME-ALU\n",
            "200\n",
            "{'data': {'success': False, 'error': {'code': 501, 'type': 'invalid_timeframe', 'info': 'No or an invalid timeframe has been specified.'}}}\n"
          ]
        }
      ]
    },
    {
      "cell_type": "code",
      "source": [
        "def metals_api_convert_price(price):\n",
        "  return (1.0/price)/31.1035*1000000\n",
        "\n",
        "dates = np.empty(len(data['rates']), dtype=datetime.datetime)\n",
        "values = np.empty(len(data['rates']), dtype=np.float64)\n",
        "it = 0\n",
        "for key,value in data['rates'].items():\n",
        "  print(key, value['LME-ALU'])\n",
        "  dates[it] = datetime.datetime.strptime(str(key),'%Y-%m-%d')\n",
        "  values[it] = value['LME-ALU']\n",
        "  it += 1\n",
        "#print(type(key), type(value['LME-ALU']))\n",
        "print(dates)\n",
        "print(values)"
      ],
      "metadata": {
        "colab": {
          "base_uri": "https://localhost:8080/"
        },
        "id": "ugmmo03C9K_C",
        "outputId": "00b2d97c-31b1-464a-9378-3f22ac026a5e"
      },
      "execution_count": null,
      "outputs": [
        {
          "output_type": "stream",
          "name": "stdout",
          "text": [
            "2024-01-01 13.896995893668\n",
            "2024-01-02 13.896995893668\n",
            "2024-01-03 13.760196875669\n",
            "2024-01-04 14.254356018621\n",
            "2024-01-05 14.381883247596\n",
            "2024-01-06 14.511712931618\n",
            "2024-01-07 14.511712931618\n",
            "2024-01-08 14.511712931618\n",
            "2024-01-09 14.577510768533\n",
            "2024-01-10 14.613954545455\n",
            "2024-01-11 14.587431941924\n",
            "2024-01-12 14.594053563323\n",
            "2024-01-13 14.781931034483\n",
            "2024-01-14 14.781931034483\n",
            "2024-01-15 14.781931034483\n",
            "2024-01-16 14.932977241059\n",
            "2024-01-17 14.894927032662\n",
            "2024-01-18 15.009663865546\n",
            "2024-01-19 15.090682938277\n",
            "2024-01-20 15.151131008483\n",
            "2024-01-21 15.151131008483\n",
            "2024-01-22 15.151131008483\n",
            "2024-01-23 15.237298578199\n",
            "2024-01-24 14.988671328671\n",
            "2024-01-25 14.564303510759\n",
            "2024-01-26 14.690747087046\n",
            "2024-01-27 14.534674502712\n",
            "2024-01-28 14.534674502712\n",
            "2024-01-29 14.534674502712\n",
            "2024-01-30 14.521544715447\n",
            "2024-01-31 14.440017965417\n",
            "[datetime.datetime(2024, 1, 1, 0, 0) datetime.datetime(2024, 1, 2, 0, 0)\n",
            " datetime.datetime(2024, 1, 3, 0, 0) datetime.datetime(2024, 1, 4, 0, 0)\n",
            " datetime.datetime(2024, 1, 5, 0, 0) datetime.datetime(2024, 1, 6, 0, 0)\n",
            " datetime.datetime(2024, 1, 7, 0, 0) datetime.datetime(2024, 1, 8, 0, 0)\n",
            " datetime.datetime(2024, 1, 9, 0, 0) datetime.datetime(2024, 1, 10, 0, 0)\n",
            " datetime.datetime(2024, 1, 11, 0, 0) datetime.datetime(2024, 1, 12, 0, 0)\n",
            " datetime.datetime(2024, 1, 13, 0, 0) datetime.datetime(2024, 1, 14, 0, 0)\n",
            " datetime.datetime(2024, 1, 15, 0, 0) datetime.datetime(2024, 1, 16, 0, 0)\n",
            " datetime.datetime(2024, 1, 17, 0, 0) datetime.datetime(2024, 1, 18, 0, 0)\n",
            " datetime.datetime(2024, 1, 19, 0, 0) datetime.datetime(2024, 1, 20, 0, 0)\n",
            " datetime.datetime(2024, 1, 21, 0, 0) datetime.datetime(2024, 1, 22, 0, 0)\n",
            " datetime.datetime(2024, 1, 23, 0, 0) datetime.datetime(2024, 1, 24, 0, 0)\n",
            " datetime.datetime(2024, 1, 25, 0, 0) datetime.datetime(2024, 1, 26, 0, 0)\n",
            " datetime.datetime(2024, 1, 27, 0, 0) datetime.datetime(2024, 1, 28, 0, 0)\n",
            " datetime.datetime(2024, 1, 29, 0, 0) datetime.datetime(2024, 1, 30, 0, 0)\n",
            " datetime.datetime(2024, 1, 31, 0, 0)]\n",
            "[13.89699589 13.89699589 13.76019688 14.25435602 14.38188325 14.51171293\n",
            " 14.51171293 14.51171293 14.57751077 14.61395455 14.58743194 14.59405356\n",
            " 14.78193103 14.78193103 14.78193103 14.93297724 14.89492703 15.00966387\n",
            " 15.09068294 15.15113101 15.15113101 15.15113101 15.23729858 14.98867133\n",
            " 14.56430351 14.69074709 14.5346745  14.5346745  14.5346745  14.52154472\n",
            " 14.44001797]\n"
          ]
        }
      ]
    },
    {
      "cell_type": "markdown",
      "source": [],
      "metadata": {
        "id": "BuYcjI8pXL8k"
      }
    },
    {
      "cell_type": "markdown",
      "source": [],
      "metadata": {
        "id": "-L3m7VHjacJD"
      }
    },
    {
      "cell_type": "code",
      "source": [
        "# https://stackoverflow.com/questions/42950/get-the-last-day-of-the-month"
      ],
      "metadata": {
        "id": "XBTSu2L5j66w"
      },
      "execution_count": null,
      "outputs": []
    },
    {
      "cell_type": "code",
      "source": [
        "def last_day_of_month(any_day):\n",
        "    # The day 28 exists in every month. 4 days later, it's always next month\n",
        "    next_month = any_day.replace(day=28) + datetime.timedelta(days=4)\n",
        "    # subtracting the number of the current day brings us back one month\n",
        "    return next_month - datetime.timedelta(days=next_month.day)\n",
        "\n",
        "for year in range(2010,2024):\n",
        "  for month in range(1, 13):\n",
        "    print(last_day_of_month(datetime.date(year, month, 1)))"
      ],
      "metadata": {
        "id": "e3Lbo959WZ1V"
      },
      "execution_count": null,
      "outputs": []
    },
    {
      "cell_type": "code",
      "source": [
        "365*14"
      ],
      "metadata": {
        "colab": {
          "base_uri": "https://localhost:8080/"
        },
        "id": "NNy5dGTtYWwZ",
        "outputId": "dddc075e-b270-474c-9173-da1936ab1570"
      },
      "execution_count": null,
      "outputs": [
        {
          "output_type": "execute_result",
          "data": {
            "text/plain": [
              "5110"
            ]
          },
          "metadata": {},
          "execution_count": 1
        }
      ]
    },
    {
      "cell_type": "code",
      "source": [
        "df = pd.DataFrame({'Date': dates, 'ALU-LME': values})\n",
        "df.to_csv('/content/drive/MyDrive/Stock analysis/ALU-LME (Metals-API).csv', mode='a')\n",
        "df"
      ],
      "metadata": {
        "id": "uYZ3QOMI_wR7"
      },
      "execution_count": null,
      "outputs": []
    },
    {
      "cell_type": "code",
      "source": [
        "df = pd.read_csv('/content/drive/MyDrive/Stock analysis/ALU-LME (Metals-API).csv')\n",
        "df['ALU-LME'] = (1.0/df['ALU-LME'])/31.1035*1000000  # one troyan ounce is 31,1035g\n",
        "df['Date'] = pd.to_datetime(df['Date'], format=\"%Y-%m-%d\")\n",
        "print(df['Date'])\n",
        "\n",
        "yfdata = yf.download([\"ALIH24.CMX\"], start=\"2024-01-01\", end=\"2024-03-15\")\n",
        "yfdata['Date'] = pd.to_datetime(yfdata.index)\n",
        "\n",
        "plt.xticks(rotation = 90)\n",
        "plt.ylim([2000, 2500])\n",
        "plt.xlim([pd.to_datetime('2024-01-01', format=\"%Y-%m-%d\" ),\n",
        "          pd.to_datetime('2024-01-31', format=\"%Y-%m-%d\" )])\n",
        "plt.scatter(aludata['Date'], aludata['Price'], color='k', label='investing.com')\n",
        "plt.scatter(aludata['Date'], aludata['Low'], color='k')\n",
        "plt.scatter(aludata['Date'], aludata['High'], color='k')\n",
        "plt.scatter(aludata['Date'], aludata['Open'], color='k')\n",
        "plt.plot( df['Date'],df['ALU-LME'], label='Metals-API')\n",
        "plt.scatter(yfdata['Date'],yfdata['Open'], color='purple', label='yfinance ALIH24.CMX')\n",
        "plt.scatter(yfdata['Date'],yfdata['High'], color='purple')\n",
        "plt.scatter(yfdata['Date'],yfdata['Low'], color='purple')\n",
        "plt.scatter(yfdata['Date'],yfdata['Close'], color='purple')\n",
        "#plt.plot(data.axes[0].tolist(),data['Open'])\n",
        "#plt.plot(data.index,data['Open'])\n",
        "\n",
        "plt.legend(loc='best')\n",
        "plt.show()"
      ],
      "metadata": {
        "colab": {
          "base_uri": "https://localhost:8080/",
          "height": 1000
        },
        "id": "RC98C3aIfMr7",
        "outputId": "72aab959-9b6b-4387-f26f-28fd339356b9"
      },
      "execution_count": null,
      "outputs": [
        {
          "output_type": "stream",
          "name": "stderr",
          "text": [
            "\r[*********************100%%**********************]  1 of 1 completed"
          ]
        },
        {
          "output_type": "stream",
          "name": "stdout",
          "text": [
            "0    2024-01-01\n",
            "1    2024-01-02\n",
            "2    2024-01-03\n",
            "3    2024-01-04\n",
            "4    2024-01-05\n",
            "5    2024-01-06\n",
            "6    2024-01-07\n",
            "7    2024-01-08\n",
            "8    2024-01-09\n",
            "9    2024-01-10\n",
            "10   2024-01-11\n",
            "11   2024-01-12\n",
            "12   2024-01-13\n",
            "13   2024-01-14\n",
            "14   2024-01-15\n",
            "15   2024-01-16\n",
            "16   2024-01-17\n",
            "17   2024-01-18\n",
            "18   2024-01-19\n",
            "19   2024-01-20\n",
            "20   2024-01-21\n",
            "21   2024-01-22\n",
            "22   2024-01-23\n",
            "23   2024-01-24\n",
            "24   2024-01-25\n",
            "25   2024-01-26\n",
            "26   2024-01-27\n",
            "27   2024-01-28\n",
            "28   2024-01-29\n",
            "29   2024-01-30\n",
            "30   2024-01-31\n",
            "Name: Date, dtype: datetime64[ns]\n"
          ]
        },
        {
          "output_type": "stream",
          "name": "stderr",
          "text": [
            "\n"
          ]
        },
        {
          "output_type": "display_data",
          "data": {
            "text/plain": [
              "<Figure size 640x480 with 1 Axes>"
            ],
            "image/png": "[encoded data removed]"
          },
          "metadata": {}
        }
      ]
    },
    {
      "cell_type": "code",
      "source": [
        "aludata.info()"
      ],
      "metadata": {
        "colab": {
          "base_uri": "https://localhost:8080/"
        },
        "id": "4bZ3cIMWoXOd",
        "outputId": "1ac67401-27be-4347-abcb-38068ddebdb3"
      },
      "execution_count": null,
      "outputs": [
        {
          "output_type": "stream",
          "name": "stdout",
          "text": [
            "<class 'pandas.core.frame.DataFrame'>\n",
            "RangeIndex: 2467 entries, 0 to 2466\n",
            "Data columns (total 8 columns):\n",
            " #   Column    Non-Null Count  Dtype         \n",
            "---  ------    --------------  -----         \n",
            " 0   Date      2467 non-null   datetime64[ns]\n",
            " 1   Price     2467 non-null   float64       \n",
            " 2   Open      2467 non-null   float64       \n",
            " 3   High      2467 non-null   float64       \n",
            " 4   Low       2467 non-null   float64       \n",
            " 5   Vol.      2447 non-null   float64       \n",
            " 6   Change %  2467 non-null   float64       \n",
            " 7   Daily     2467 non-null   float64       \n",
            "dtypes: datetime64[ns](1), float64(7)\n",
            "memory usage: 154.3 KB\n"
          ]
        }
      ]
    },
    {
      "cell_type": "code",
      "source": [
        "data.info()"
      ],
      "metadata": {
        "colab": {
          "base_uri": "https://localhost:8080/"
        },
        "id": "at0yNtFSjHqW",
        "outputId": "bb3cdec6-4e50-4f27-b395-cb4f3c461c31"
      },
      "execution_count": null,
      "outputs": [
        {
          "output_type": "stream",
          "name": "stdout",
          "text": [
            "<class 'pandas.core.frame.DataFrame'>\n",
            "DatetimeIndex: 51 entries, 2024-01-02 to 2024-03-14\n",
            "Data columns (total 7 columns):\n",
            " #   Column     Non-Null Count  Dtype         \n",
            "---  ------     --------------  -----         \n",
            " 0   Open       51 non-null     float64       \n",
            " 1   High       51 non-null     float64       \n",
            " 2   Low        51 non-null     float64       \n",
            " 3   Close      51 non-null     float64       \n",
            " 4   Adj Close  51 non-null     float64       \n",
            " 5   Volume     51 non-null     int64         \n",
            " 6   Date       51 non-null     datetime64[ns]\n",
            "dtypes: datetime64[ns](1), float64(5), int64(1)\n",
            "memory usage: 3.2 KB\n"
          ]
        }
      ]
    },
    {
      "cell_type": "markdown",
      "source": [
        "## Yahoo Finance API\n"
      ],
      "metadata": {
        "id": "f4v_K3GGlpRm"
      }
    },
    {
      "cell_type": "markdown",
      "source": [
        "https://finance.yahoo.com/quote/ALI=F/history\n",
        "\n",
        "https://finance.yahoo.com/quote/ALUM.MI/history"
      ],
      "metadata": {
        "id": "xU-doPaVpgZv"
      }
    },
    {
      "cell_type": "code",
      "source": [
        "import yfinance as yf\n",
        "\n",
        "# ALI=F\n",
        "# ALUM.MI\n",
        "# ALIH24.CMX  <---\n",
        "# ALIJ24.CMX\n",
        "# ALIK24.CMX\n",
        "# ALIM24.CMX\n",
        "# ALIN24.CMX\n",
        "# ALIQ24.CMX\n",
        "# ALIU24.CMX\n",
        "# ALIV24.CMX\n",
        "# ALIX24.CMX\n",
        "\n",
        "data = yf.download([\"ALIH24.CMX\"], start=\"2024-01-01\", end=\"2024-03-15\")\n",
        "data.head()"
      ],
      "metadata": {
        "colab": {
          "base_uri": "https://localhost:8080/",
          "height": 150
        },
        "id": "DROsAVL-luJY",
        "outputId": "2b718487-a2ca-4e35-dcc2-3e5ee4bd9728"
      },
      "execution_count": null,
      "outputs": [
        {
          "output_type": "stream",
          "name": "stderr",
          "text": [
            "\r[*********************100%%**********************]  1 of 1 completed\n",
            "ERROR:yfinance:\n",
            "1 Failed download:\n",
            "ERROR:yfinance:['ALIH24.CMX']: Exception('%ticker%: No timezone found, symbol may be delisted')\n"
          ]
        },
        {
          "output_type": "execute_result",
          "data": {
            "text/plain": [
              "Empty DataFrame\n",
              "Columns: [Open, High, Low, Close, Adj Close, Volume]\n",
              "Index: []"
            ],
            "text/html": [
              "\n",
              "  <div id=\"df-16aaeb77-5d9d-471e-a524-3ec683b0eeb7\" class=\"colab-df-container\">\n",
              "    <div>\n",
              "<style scoped>\n",
              "    .dataframe tbody tr th:only-of-type {\n",
              "        vertical-align: middle;\n",
              "    }\n",
              "\n",
              "    .dataframe tbody tr th {\n",
              "        vertical-align: top;\n",
              "    }\n",
              "\n",
              "    .dataframe thead th {\n",
              "        text-align: right;\n",
              "    }\n",
              "</style>\n",
              "<table border=\"1\" class=\"dataframe\">\n",
              "  <thead>\n",
              "    <tr style=\"text-align: right;\">\n",
              "      <th></th>\n",
              "      <th>Open</th>\n",
              "      <th>High</th>\n",
              "      <th>Low</th>\n",
              "      <th>Close</th>\n",
              "      <th>Adj Close</th>\n",
              "      <th>Volume</th>\n",
              "    </tr>\n",
              "    <tr>\n",
              "      <th>Date</th>\n",
              "      <th></th>\n",
              "      <th></th>\n",
              "      <th></th>\n",
              "      <th></th>\n",
              "      <th></th>\n",
              "      <th></th>\n",
              "    </tr>\n",
              "  </thead>\n",
              "  <tbody>\n",
              "  </tbody>\n",
              "</table>\n",
              "</div>\n",
              "    <div class=\"colab-df-buttons\">\n",
              "\n",
              "  <div class=\"colab-df-container\">\n",
              "    <button class=\"colab-df-convert\" onclick=\"convertToInteractive('df-16aaeb77-5d9d-471e-a524-3ec683b0eeb7')\"\n",
              "            title=\"Convert this dataframe to an interactive table.\"\n",
              "            style=\"display:none;\">\n",
              "\n",
              "  <svg xmlns=\"http://www.w3.org/2000/svg\" height=\"24px\" viewBox=\"0 -960 960 960\">\n",
              "    <path d=\"M120-120v-720h720v720H120Zm60-500h600v-160H180v160Zm220 220h160v-160H400v160Zm0 220h160v-160H400v160ZM180-400h160v-160H180v160Zm440 0h160v-160H620v160ZM180-180h160v-160H180v160Zm440 0h160v-160H620v160Z\"/>\n",
              "  </svg>\n",
              "    </button>\n",
              "\n",
              "  <style>\n",
              "    .colab-df-container {\n",
              "      display:flex;\n",
              "      gap: 12px;\n",
              "    }\n",
              "\n",
              "    .colab-df-convert {\n",
              "      background-color: #E8F0FE;\n",
              "      border: none;\n",
              "      border-radius: 50%;\n",
              "      cursor: pointer;\n",
              "      display: none;\n",
              "      fill: #1967D2;\n",
              "      height: 32px;\n",
              "      padding: 0 0 0 0;\n",
              "      width: 32px;\n",
              "    }\n",
              "\n",
              "    .colab-df-convert:hover {\n",
              "      background-color: #E2EBFA;\n",
              "      box-shadow: 0px 1px 2px rgba(60, 64, 67, 0.3), 0px 1px 3px 1px rgba(60, 64, 67, 0.15);\n",
              "      fill: #174EA6;\n",
              "    }\n",
              "\n",
              "    .colab-df-buttons div {\n",
              "      margin-bottom: 4px;\n",
              "    }\n",
              "\n",
              "    [theme=dark] .colab-df-convert {\n",
              "      background-color: #3B4455;\n",
              "      fill: #D2E3FC;\n",
              "    }\n",
              "\n",
              "    [theme=dark] .colab-df-convert:hover {\n",
              "      background-color: #434B5C;\n",
              "      box-shadow: 0px 1px 3px 1px rgba(0, 0, 0, 0.15);\n",
              "      filter: drop-shadow(0px 1px 2px rgba(0, 0, 0, 0.3));\n",
              "      fill: #FFFFFF;\n",
              "    }\n",
              "  </style>\n",
              "\n",
              "    <script>\n",
              "      const buttonEl =\n",
              "        document.querySelector('#df-16aaeb77-5d9d-471e-a524-3ec683b0eeb7 button.colab-df-convert');\n",
              "      buttonEl.style.display =\n",
              "        google.colab.kernel.accessAllowed ? 'block' : 'none';\n",
              "\n",
              "      async function convertToInteractive(key) {\n",
              "        const element = document.querySelector('#df-16aaeb77-5d9d-471e-a524-3ec683b0eeb7');\n",
              "        const dataTable =\n",
              "          await google.colab.kernel.invokeFunction('convertToInteractive',\n",
              "                                                    [key], {});\n",
              "        if (!dataTable) return;\n",
              "\n",
              "        const docLinkHtml = 'Like what you see? Visit the ' +\n",
              "          '<a target=\"_blank\" href=https://colab.research.google.com/notebooks/data_table.ipynb>data table notebook</a>'\n",
              "          + ' to learn more about interactive tables.';\n",
              "        element.innerHTML = '';\n",
              "        dataTable['output_type'] = 'display_data';\n",
              "        await google.colab.output.renderOutput(dataTable, element);\n",
              "        const docLink = document.createElement('div');\n",
              "        docLink.innerHTML = docLinkHtml;\n",
              "        element.appendChild(docLink);\n",
              "      }\n",
              "    </script>\n",
              "  </div>\n",
              "\n",
              "    </div>\n",
              "  </div>\n"
            ],
            "application/vnd.google.colaboratory.intrinsic+json": {
              "type": "dataframe",
              "variable_name": "data",
              "repr_error": "Out of range float values are not JSON compliant: nan"
            }
          },
          "metadata": {},
          "execution_count": 1
        }
      ]
    },
    {
      "cell_type": "markdown",
      "source": [
        "## Historical Aluminium prices (www.investing.com)\n",
        "\n",
        "https://www.investing.com/commodities/aluminum-historical-data"
      ],
      "metadata": {
        "id": "xeR61f6Tnaxa"
      }
    },
    {
      "cell_type": "code",
      "source": [
        "def price_converter(x):\n",
        "  if x == 'NaN':\n",
        "    return np.nan\n",
        "  thousands, hundreds = x.split(',')\n",
        "  return float(thousands)*1000 + float(hundreds)\n",
        "\n",
        "def volume_converter(x):\n",
        "  if type(x) == float:\n",
        "    return x\n",
        "  return float( x[:-1] )\n",
        "\n",
        "#aludata = np.loadtxt('Aluminium Historical Data.csv')\n",
        "aludata = pd.read_csv('Aluminium Historical Data.csv')\n",
        "\n",
        "# convert data to suitable formats\n",
        "aludata['Date']  = pd.to_datetime( aludata['Date'], format=\"%m/%d/%Y\" )\n",
        "aludata['Price'] = aludata['Price'].apply(price_converter)\n",
        "aludata['Open']  = aludata['Open'].apply(price_converter)\n",
        "aludata['High']  = aludata['High'].apply(price_converter)\n",
        "aludata['Low']   = aludata['Low'].apply(price_converter)\n",
        "aludata['Vol.']  = aludata['Vol.'].apply(volume_converter)\n",
        "\n",
        "# What with Change %? Maybe better drop?\n",
        "aludata['Change %']  = aludata['Change %'].apply(volume_converter)\n",
        "\n",
        "aludata['Daily'] = aludata['High']-aludata['Low']\n",
        "\n",
        "print(aludata.dtypes)\n",
        "aludata.head()"
      ],
      "metadata": {
        "colab": {
          "base_uri": "https://localhost:8080/",
          "height": 211
        },
        "id": "ge5d59J6njqP",
        "outputId": "4146a3fb-ebbd-4338-e07d-4d4f40b17758"
      },
      "execution_count": null,
      "outputs": [
        {
          "output_type": "error",
          "ename": "NameError",
          "evalue": "name 'pd' is not defined",
          "traceback": [
            "\u001b[0;31m---------------------------------------------------------------------------\u001b[0m",
            "\u001b[0;31mNameError\u001b[0m                                 Traceback (most recent call last)",
            "\u001b[0;32m<ipython-input-2-165606988f07>\u001b[0m in \u001b[0;36m<cell line: 13>\u001b[0;34m()\u001b[0m\n\u001b[1;32m     11\u001b[0m \u001b[0;34m\u001b[0m\u001b[0m\n\u001b[1;32m     12\u001b[0m \u001b[0;31m#aludata = np.loadtxt('Aluminium Historical Data.csv')\u001b[0m\u001b[0;34m\u001b[0m\u001b[0;34m\u001b[0m\u001b[0m\n\u001b[0;32m---> 13\u001b[0;31m \u001b[0maludata\u001b[0m \u001b[0;34m=\u001b[0m \u001b[0mpd\u001b[0m\u001b[0;34m.\u001b[0m\u001b[0mread_csv\u001b[0m\u001b[0;34m(\u001b[0m\u001b[0;34m'Aluminium Historical Data.csv'\u001b[0m\u001b[0;34m)\u001b[0m\u001b[0;34m\u001b[0m\u001b[0;34m\u001b[0m\u001b[0m\n\u001b[0m\u001b[1;32m     14\u001b[0m \u001b[0;34m\u001b[0m\u001b[0m\n\u001b[1;32m     15\u001b[0m \u001b[0;31m# convert data to suitable formats\u001b[0m\u001b[0;34m\u001b[0m\u001b[0;34m\u001b[0m\u001b[0m\n",
            "\u001b[0;31mNameError\u001b[0m: name 'pd' is not defined"
          ]
        }
      ]
    },
    {
      "cell_type": "code",
      "source": [
        "corr = aludata[['Price','Vol.','Daily']].corr()\n",
        "corr.style.background_gradient(cmap='coolwarm')"
      ],
      "metadata": {
        "colab": {
          "base_uri": "https://localhost:8080/",
          "height": 159
        },
        "id": "CjXb1qmNxWgs",
        "outputId": "5370604e-59ba-42b5-af9e-37027a025deb"
      },
      "execution_count": null,
      "outputs": [
        {
          "output_type": "error",
          "ename": "NameError",
          "evalue": "name 'aludata' is not defined",
          "traceback": [
            "\u001b[0;31m---------------------------------------------------------------------------\u001b[0m",
            "\u001b[0;31mNameError\u001b[0m                                 Traceback (most recent call last)",
            "\u001b[0;32m<ipython-input-3-5383152f283c>\u001b[0m in \u001b[0;36m<cell line: 1>\u001b[0;34m()\u001b[0m\n\u001b[0;32m----> 1\u001b[0;31m \u001b[0mcorr\u001b[0m \u001b[0;34m=\u001b[0m \u001b[0maludata\u001b[0m\u001b[0;34m[\u001b[0m\u001b[0;34m[\u001b[0m\u001b[0;34m'Price'\u001b[0m\u001b[0;34m,\u001b[0m\u001b[0;34m'Vol.'\u001b[0m\u001b[0;34m,\u001b[0m\u001b[0;34m'Daily'\u001b[0m\u001b[0;34m]\u001b[0m\u001b[0;34m]\u001b[0m\u001b[0;34m.\u001b[0m\u001b[0mcorr\u001b[0m\u001b[0;34m(\u001b[0m\u001b[0;34m)\u001b[0m\u001b[0;34m\u001b[0m\u001b[0;34m\u001b[0m\u001b[0m\n\u001b[0m\u001b[1;32m      2\u001b[0m \u001b[0mcorr\u001b[0m\u001b[0;34m.\u001b[0m\u001b[0mstyle\u001b[0m\u001b[0;34m.\u001b[0m\u001b[0mbackground_gradient\u001b[0m\u001b[0;34m(\u001b[0m\u001b[0mcmap\u001b[0m\u001b[0;34m=\u001b[0m\u001b[0;34m'coolwarm'\u001b[0m\u001b[0;34m)\u001b[0m\u001b[0;34m\u001b[0m\u001b[0;34m\u001b[0m\u001b[0m\n",
            "\u001b[0;31mNameError\u001b[0m: name 'aludata' is not defined"
          ]
        }
      ]
    },
    {
      "cell_type": "code",
      "source": [
        "plt.figure(figsize=[16.,12.])\n",
        "\n",
        "plt.grid(True)\n",
        "plt.xlim([datetime.datetime(2024, 1, 1), datetime.datetime(2024, 3, 15)])\n",
        "plt.ylim([2000,2500])\n",
        "plt.plot(aludata['Date'], aludata['Price'], color='k', label='Price')\n",
        "plt.plot(aludata['Date'], aludata['Low'], color='b', label='Low')\n",
        "plt.plot(aludata['Date'], aludata['High'], color='r', label='High')\n",
        "\n",
        "#plt.errorbar(aludata['Date'], aludata['Price'],\n",
        "#             yerr=[aludata['Price']-aludata['Low'], aludata['High']-aludata['Price']], fmt='-' )\n",
        "\n",
        "plt.legend(loc='best')\n",
        "plt.show()"
      ],
      "metadata": {
        "id": "i3rpOwDr5HLh"
      },
      "execution_count": null,
      "outputs": []
    },
    {
      "cell_type": "markdown",
      "source": [
        "## Al + Alpha Vintage API\n",
        "\n",
        "\n",
        "Ogólnie Alpha Vintage: https://www.alphavantage.co/documentation/#symbolsearch\n",
        "\n",
        "Pobieranie danych Aluminium\n",
        "\n",
        "**Tylko dane z miesięczną rozdzielczością**"
      ],
      "metadata": {
        "id": "7ize_6hsQR0V"
      }
    },
    {
      "cell_type": "code",
      "source": [
        "apikey = 'M6V1WYGSXGCN8V7Y'\n",
        "\n",
        "# replace the \"demo\" apikey below with your own key from https://www.alphavantage.co/support/#api-key\n",
        "url = f'https://www.alphavantage.co/query?function=ALUMINUM&interval=daily&apikey={apikey}'\n",
        "r = requests.get(url)\n",
        "data = r.json()\n",
        "\n",
        "dates = []\n",
        "price = []\n",
        "for d in data['data']:\n",
        "  if '1989-12-01' in d['date']:\n",
        "    break\n",
        "  dates.append( datetime.strptime(d['date'], '%Y-%m-%d') )\n",
        "  price.append( float(d['value']) )\n",
        "\n",
        "plt.plot(dates, price)\n",
        "plt.show()"
      ],
      "metadata": {
        "id": "v0EaD50NNhC_",
        "colab": {
          "base_uri": "https://localhost:8080/",
          "height": 430
        },
        "outputId": "1eb711ad-f1af-4ce6-94a9-3443f2fc986c"
      },
      "execution_count": null,
      "outputs": [
        {
          "output_type": "display_data",
          "data": {
            "text/plain": [
              "<Figure size 640x480 with 1 Axes>"
            ],
            "image/png": "[encoded data removed]"
          },
          "metadata": {}
        }
      ]
    },
    {
      "cell_type": "code",
      "source": [
        "for d in data['data']:\n",
        "  if '1989-12-01' in d['date']:\n",
        "    break\n",
        "  print( datetime.strptime(d['date'], '%Y-%m-%d'),  float(d['value']) )"
      ],
      "metadata": {
        "colab": {
          "base_uri": "https://localhost:8080/"
        },
        "id": "8xVHiyOSRLrK",
        "outputId": "e8701353-c878-434b-cfef-318b6b3eab3f"
      },
      "execution_count": null,
      "outputs": [
        {
          "output_type": "stream",
          "name": "stdout",
          "text": [
            "2024-02-01 00:00:00 2179.45714285714\n",
            "2024-01-01 00:00:00 2201.56652173913\n",
            "2023-12-01 00:00:00 2192.00523809524\n",
            "2023-11-01 00:00:00 2202.25545454545\n",
            "2023-10-01 00:00:00 2194.39090909091\n",
            "2023-09-01 00:00:00 2184.67380952381\n",
            "2023-08-01 00:00:00 2135.58173913043\n",
            "2023-07-01 00:00:00 2159.73238095238\n",
            "2023-06-01 00:00:00 2184.75363636364\n",
            "2023-05-01 00:00:00 2274.01260869565\n",
            "2023-04-01 00:00:00 2338.131\n",
            "2023-03-01 00:00:00 2296.41695652174\n",
            "2023-02-01 00:00:00 2416.1815\n",
            "2023-01-01 00:00:00 2494.90090909091\n",
            "2022-12-01 00:00:00 2398.20681818182\n",
            "2022-11-01 00:00:00 2350.71636363636\n",
            "2022-10-01 00:00:00 2255.53523809524\n",
            "2022-09-01 00:00:00 2224.75590909091\n",
            "2022-08-01 00:00:00 2433.91608695652\n",
            "2022-07-01 00:00:00 2408.42333333333\n",
            "2022-06-01 00:00:00 2575.66954545455\n",
            "2022-05-01 00:00:00 2839.50545454545\n",
            "2022-04-01 00:00:00 3246.99047619048\n",
            "2022-03-01 00:00:00 3498.37304347826\n",
            "2022-02-01 00:00:00 3245.7855\n",
            "2022-01-01 00:00:00 3005.9805\n",
            "2021-12-01 00:00:00 2695.53142857143\n",
            "2021-11-01 00:00:00 2636.45227272727\n",
            "2021-10-01 00:00:00 2934.39380952381\n",
            "2021-09-01 00:00:00 2834.55681818182\n",
            "2021-08-01 00:00:00 2602.99190476191\n",
            "2021-07-01 00:00:00 2497.63545454545\n",
            "2021-06-01 00:00:00 2446.64545454545\n",
            "2021-05-01 00:00:00 2434.7765\n",
            "2021-04-01 00:00:00 2319.3925\n",
            "2021-03-01 00:00:00 2190.48260869565\n",
            "2021-02-01 00:00:00 2078.5935\n",
            "2021-01-01 00:00:00 2003.9755\n",
            "2020-12-01 00:00:00 2014.6719047619\n",
            "2020-11-01 00:00:00 1935.28333333333\n",
            "2020-10-01 00:00:00 1806.10181818182\n",
            "2020-09-01 00:00:00 1743.77454545455\n",
            "2020-08-01 00:00:00 1738.55523809524\n",
            "2020-07-01 00:00:00 1643.81217391304\n",
            "2020-06-01 00:00:00 1568.57045454545\n",
            "2020-05-01 00:00:00 1466.37157894737\n",
            "2020-04-01 00:00:00 1459.9345\n",
            "2020-03-01 00:00:00 1610.89090909091\n",
            "2020-02-01 00:00:00 1688.095\n",
            "2020-01-01 00:00:00 1773.09090909091\n",
            "2019-12-01 00:00:00 1771.38\n",
            "2019-11-01 00:00:00 1774.78571428571\n",
            "2019-10-01 00:00:00 1725.95652173913\n",
            "2019-09-01 00:00:00 1753.5119047619\n",
            "2019-08-01 00:00:00 1740.67857142857\n",
            "2019-07-01 00:00:00 1796.98913043478\n",
            "2019-06-01 00:00:00 1755.95\n",
            "2019-05-01 00:00:00 1781.2619047619\n",
            "2019-04-01 00:00:00 1845.425\n",
            "2019-03-01 00:00:00 1871.21428571429\n",
            "2019-02-01 00:00:00 1862.9875\n",
            "2019-01-01 00:00:00 1853.71590909091\n",
            "2018-12-01 00:00:00 1920.38157894737\n",
            "2018-11-01 00:00:00 1938.51136363636\n",
            "2018-10-01 00:00:00 2029.85869565217\n",
            "2018-09-01 00:00:00 2026.4625\n",
            "2018-08-01 00:00:00 2051.51136363636\n",
            "2018-07-01 00:00:00 2082.23863636364\n",
            "2018-06-01 00:00:00 2237.61904761905\n",
            "2018-05-01 00:00:00 2299.66666666667\n",
            "2018-04-01 00:00:00 2254.6875\n",
            "2018-03-01 00:00:00 2069.2380952381\n",
            "2018-02-01 00:00:00 2181.7875\n",
            "2018-01-01 00:00:00 2209.72727272727\n",
            "2017-12-01 00:00:00 2080.47368421053\n",
            "2017-11-01 00:00:00 2097.44090909091\n",
            "2017-10-01 00:00:00 2131.48863636364\n",
            "2017-09-01 00:00:00 2096.4880952381\n",
            "2017-08-01 00:00:00 2030.01136363636\n",
            "2017-07-01 00:00:00 1902.96428571429\n",
            "2017-06-01 00:00:00 1885.28636363636\n",
            "2017-05-01 00:00:00 1913.02380952381\n",
            "2017-04-01 00:00:00 1921.22222222222\n",
            "2017-03-01 00:00:00 1901.46739130435\n",
            "2017-02-01 00:00:00 1860.75\n",
            "2017-01-01 00:00:00 1791.2380952381\n",
            "2016-12-01 00:00:00 1727.7375\n",
            "2016-11-01 00:00:00 1737.11363636364\n",
            "2016-10-01 00:00:00 1665.90476190476\n",
            "2016-09-01 00:00:00 1592.36363636364\n",
            "2016-08-01 00:00:00 1639.28409090909\n",
            "2016-07-01 00:00:00 1629.04761904762\n",
            "2016-06-01 00:00:00 1593.50681818182\n",
            "2016-05-01 00:00:00 1550.625\n",
            "2016-04-01 00:00:00 1571.22619047619\n",
            "2016-03-01 00:00:00 1531.0119047619\n",
            "2016-02-01 00:00:00 1531.2619047619\n",
            "2016-01-01 00:00:00 1481.1\n",
            "2015-12-01 00:00:00 1497.20238095238\n",
            "2015-11-01 00:00:00 1467.89285714286\n",
            "2015-10-01 00:00:00 1516.48863636364\n",
            "2015-09-01 00:00:00 1589.60227272727\n",
            "2015-08-01 00:00:00 1548.125\n",
            "2015-07-01 00:00:00 1639.5\n",
            "2015-06-01 00:00:00 1687.72727272727\n",
            "2015-05-01 00:00:00 1804.03947368421\n",
            "2015-04-01 00:00:00 1819.1875\n",
            "2015-03-01 00:00:00 1773.86363636364\n",
            "2015-02-01 00:00:00 1817.82\n",
            "2015-01-01 00:00:00 1814.71904761905\n",
            "2014-12-01 00:00:00 1909.45952380952\n",
            "2014-11-01 00:00:00 2055.555\n",
            "2014-10-01 00:00:00 1946.18913043478\n",
            "2014-09-01 00:00:00 1990.43181818182\n",
            "2014-08-01 00:00:00 2030.4925\n",
            "2014-07-01 00:00:00 1948.30434782609\n",
            "2014-06-01 00:00:00 1838.95238095238\n",
            "2014-05-01 00:00:00 1751.05\n",
            "2014-04-01 00:00:00 1810.675\n",
            "2014-03-01 00:00:00 1705.36666666667\n",
            "2014-02-01 00:00:00 1695.165\n",
            "2014-01-01 00:00:00 1727.41136363636\n",
            "2013-12-01 00:00:00 1739.81\n",
            "2013-11-01 00:00:00 1747.96428571429\n",
            "2013-10-01 00:00:00 1814.58260869565\n",
            "2013-09-01 00:00:00 1761.30476190476\n",
            "2013-08-01 00:00:00 1816.23571428571\n",
            "2013-07-01 00:00:00 1769.60869565217\n",
            "2013-06-01 00:00:00 1814.5375\n",
            "2013-05-01 00:00:00 1832.57142857143\n",
            "2013-04-01 00:00:00 1861.02380952381\n",
            "2013-03-01 00:00:00 1911.2825\n",
            "2013-02-01 00:00:00 2053.595\n",
            "2013-01-01 00:00:00 2037.60681818182\n",
            "2012-12-01 00:00:00 2086.76315789474\n",
            "2012-11-01 00:00:00 1948.82954545455\n",
            "2012-10-01 00:00:00 1974.30434782609\n",
            "2012-09-01 00:00:00 2064.12\n",
            "2012-08-01 00:00:00 1843.32727272727\n",
            "2012-07-01 00:00:00 1876.25\n",
            "2012-06-01 00:00:00 1885.51315789474\n",
            "2012-05-01 00:00:00 2002.52272727273\n",
            "2012-04-01 00:00:00 2048.50526315789\n",
            "2012-03-01 00:00:00 2184.15909090909\n",
            "2012-02-01 00:00:00 2207.91666666667\n",
            "2012-01-01 00:00:00 2151.33333333333\n",
            "2011-12-01 00:00:00 2024.375\n",
            "2011-11-01 00:00:00 2079.98181818182\n",
            "2011-10-01 00:00:00 2180.64761904762\n",
            "2011-09-01 00:00:00 2293.46136363636\n",
            "2011-08-01 00:00:00 2380.975\n",
            "2011-07-01 00:00:00 2525.42857142857\n",
            "2011-06-01 00:00:00 2557.76136363636\n",
            "2011-05-01 00:00:00 2587.2125\n",
            "2011-04-01 00:00:00 2667.41666666667\n",
            "2011-03-01 00:00:00 2555.5\n",
            "2011-02-01 00:00:00 2515.26\n",
            "2011-01-01 00:00:00 2439.7\n",
            "2010-12-01 00:00:00 2356.66904761905\n",
            "2010-11-01 00:00:00 2324.04545454545\n",
            "2010-10-01 00:00:00 2342.17857142857\n",
            "2010-09-01 00:00:00 2171.24318181818\n",
            "2010-08-01 00:00:00 2110.44047619048\n",
            "2010-07-01 00:00:00 1989.04545454545\n",
            "2010-06-01 00:00:00 1929.40909090909\n",
            "2010-05-01 00:00:00 2044.71052631579\n",
            "2010-04-01 00:00:00 2314.2775\n",
            "2010-03-01 00:00:00 2210.53043478261\n",
            "2010-02-01 00:00:00 2053.27\n",
            "2010-01-01 00:00:00 2230.1125\n",
            "2009-12-01 00:00:00 2181.25714285714\n",
            "2009-11-01 00:00:00 1956.54761904762\n",
            "2009-10-01 00:00:00 1875.66363636364\n",
            "2009-09-01 00:00:00 1835.59772727273\n",
            "2009-08-01 00:00:00 1927.6375\n",
            "2009-07-01 00:00:00 1670.55652173913\n",
            "2009-06-01 00:00:00 1579.62727272727\n",
            "2009-05-01 00:00:00 1466.67105263158\n",
            "2009-04-01 00:00:00 1431.8125\n",
            "2009-03-01 00:00:00 1338.07954545455\n",
            "2009-02-01 00:00:00 1338.0625\n",
            "2009-01-01 00:00:00 1420.35952380952\n",
            "2008-12-01 00:00:00 1504.41666666667\n",
            "2008-11-01 00:00:00 1857.13\n",
            "2008-10-01 00:00:00 2122.02826086957\n",
            "2008-09-01 00:00:00 2524.14772727273\n",
            "2008-08-01 00:00:00 2762.56\n",
            "2008-07-01 00:00:00 3067.45652173913\n",
            "2008-06-01 00:00:00 2967.86904761905\n",
            "2008-05-01 00:00:00 2908.2775\n",
            "2008-04-01 00:00:00 2968.03409090909\n",
            "2008-03-01 00:00:00 3012.05263157895\n",
            "2008-02-01 00:00:00 2784.89285714286\n",
            "2008-01-01 00:00:00 2456.125\n",
            "2007-12-01 00:00:00 2382.83333333333\n",
            "2007-11-01 00:00:00 2507.15227272727\n",
            "2007-10-01 00:00:00 2444.53260869565\n",
            "2007-09-01 00:00:00 2394.9625\n",
            "2007-08-01 00:00:00 2512.60227272727\n",
            "2007-07-01 00:00:00 2738.09090909091\n",
            "2007-06-01 00:00:00 2681.30952380952\n",
            "2007-05-01 00:00:00 2804.60476190476\n",
            "2007-04-01 00:00:00 2817.05263157895\n",
            "2007-03-01 00:00:00 2757.07954545455\n",
            "2007-02-01 00:00:00 2839.05\n",
            "2007-01-01 00:00:00 2799.05909090909\n",
            "2006-12-01 00:00:00 2823.67105263158\n",
            "2006-11-01 00:00:00 2702.13636363636\n",
            "2006-10-01 00:00:00 2657.14772727273\n",
            "2006-09-01 00:00:00 2484.38095238095\n",
            "2006-08-01 00:00:00 2461.55227272727\n",
            "2006-07-01 00:00:00 2511.83333333333\n",
            "2006-06-01 00:00:00 2490.95454545455\n",
            "2006-05-01 00:00:00 2852.07142857143\n",
            "2006-04-01 00:00:00 2623.85833333333\n",
            "2006-03-01 00:00:00 2432.47826086957\n",
            "2006-02-01 00:00:00 2453.375\n",
            "2006-01-01 00:00:00 2383.30238095238\n",
            "2005-12-01 00:00:00 2250.9\n",
            "2005-11-01 00:00:00 2056.97045454545\n",
            "2005-10-01 00:00:00 1934.14285714286\n",
            "2005-09-01 00:00:00 1837.69318181818\n",
            "2005-08-01 00:00:00 1871.27272727273\n",
            "2005-07-01 00:00:00 1783.2619047619\n",
            "2005-06-01 00:00:00 1731.94318181818\n",
            "2005-05-01 00:00:00 1741.45\n",
            "2005-04-01 00:00:00 1891.9880952381\n",
            "2005-03-01 00:00:00 1987.5\n",
            "2005-02-01 00:00:00 1882.775\n",
            "2005-01-01 00:00:00 1836.175\n",
            "2004-12-01 00:00:00 1852.90952380952\n",
            "2004-11-01 00:00:00 1817.34090909091\n",
            "2004-10-01 00:00:00 1830.35714285714\n",
            "2004-09-01 00:00:00 1731.0\n",
            "2004-08-01 00:00:00 1692.07142857143\n",
            "2004-07-01 00:00:00 1707.84090909091\n",
            "2004-06-01 00:00:00 1682.02954545455\n",
            "2004-05-01 00:00:00 1625.25\n",
            "2004-04-01 00:00:00 1731.68\n",
            "2004-03-01 00:00:00 1657.35434782609\n",
            "2004-02-01 00:00:00 1685.225\n",
            "2004-01-01 00:00:00 1608.89285714286\n",
            "2003-12-01 00:00:00 1557.77857142857\n",
            "2003-11-01 00:00:00 1511.585\n",
            "2003-10-01 00:00:00 1477.22391304348\n",
            "2003-09-01 00:00:00 1416.57727272727\n",
            "2003-08-01 00:00:00 1457.225\n",
            "2003-07-01 00:00:00 1440.88043478261\n",
            "2003-06-01 00:00:00 1410.51666666667\n",
            "2003-05-01 00:00:00 1400.3975\n",
            "2003-04-01 00:00:00 1334.29\n",
            "2003-03-01 00:00:00 1386.52380952381\n",
            "2003-02-01 00:00:00 1421.535\n",
            "2003-01-01 00:00:00 1379.26818181818\n",
            "2002-12-01 00:00:00 1375.8619047619\n",
            "2002-11-01 00:00:00 1373.26666666667\n",
            "2002-10-01 00:00:00 1311.46086956522\n",
            "2002-09-01 00:00:00 1301.7\n",
            "2002-08-01 00:00:00 1293.35714285714\n",
            "2002-07-01 00:00:00 1337.8652173913\n",
            "2002-06-01 00:00:00 1356.93333333333\n",
            "2002-05-01 00:00:00 1344.42727272727\n",
            "2002-04-01 00:00:00 1370.38571428571\n",
            "2002-03-01 00:00:00 1404.985\n",
            "2002-02-01 00:00:00 1371.08\n",
            "2002-01-01 00:00:00 1371.36363636364\n",
            "2001-12-01 00:00:00 1348.72352941176\n",
            "2001-11-01 00:00:00 1334.45454545455\n",
            "2001-10-01 00:00:00 1283.53043478261\n",
            "2001-09-01 00:00:00 1345.995\n",
            "2001-08-01 00:00:00 1377.84545454545\n",
            "2001-07-01 00:00:00 1418.62272727273\n",
            "2001-06-01 00:00:00 1470.83333333333\n",
            "2001-05-01 00:00:00 1542.39047619048\n",
            "2001-04-01 00:00:00 1499.48333333333\n",
            "2001-03-01 00:00:00 1512.17272727273\n",
            "2001-02-01 00:00:00 1607.03\n",
            "2001-01-01 00:00:00 1619.87727272727\n",
            "2000-12-01 00:00:00 1569.055\n",
            "2000-11-01 00:00:00 1475.55454545455\n",
            "2000-10-01 00:00:00 1501.24545454545\n",
            "2000-09-01 00:00:00 1602.30952380952\n",
            "2000-08-01 00:00:00 1530.3347826087\n",
            "2000-07-01 00:00:00 1564.37619047619\n",
            "2000-06-01 00:00:00 1509.37272727273\n",
            "2000-05-01 00:00:00 1468.0652173913\n",
            "2000-04-01 00:00:00 1458.745\n",
            "2000-03-01 00:00:00 1579.64\n",
            "2000-02-01 00:00:00 1679.425\n",
            "2000-01-01 00:00:00 1679.85\n",
            "1999-12-01 00:00:00 1554.73529411765\n",
            "1999-11-01 00:00:00 1472.43181818182\n",
            "1999-10-01 00:00:00 1473.33333333333\n",
            "1999-09-01 00:00:00 1492.06818181818\n",
            "1999-08-01 00:00:00 1421.69047619048\n",
            "1999-07-01 00:00:00 1403.36363636364\n",
            "1999-06-01 00:00:00 1315.52272727273\n",
            "1999-05-01 00:00:00 1323.13157894737\n",
            "1999-04-01 00:00:00 1277.85\n",
            "1999-03-01 00:00:00 1179.86363636364\n",
            "1999-02-01 00:00:00 1186.475\n",
            "1999-01-01 00:00:00 1219.40002441406\n",
            "1998-12-01 00:00:00 1250.39477539063\n",
            "1998-11-01 00:00:00 1295.30004882813\n",
            "1998-10-01 00:00:00 1303.70458984375\n",
            "1998-09-01 00:00:00 1341.88635253906\n",
            "1998-08-01 00:00:00 1310.55004882813\n",
            "1998-07-01 00:00:00 1312.66662597656\n",
            "1998-06-01 00:00:00 1305.52380371094\n",
            "1998-05-01 00:00:00 1364.31579589844\n",
            "1998-04-01 00:00:00 1417.55004882813\n",
            "1998-03-01 00:00:00 1438.31823730469\n",
            "1998-02-01 00:00:00 1465.17504882813\n",
            "1998-01-01 00:00:00 1485.47497558594\n",
            "1997-12-01 00:00:00 1530.52380371094\n",
            "1997-11-01 00:00:00 1598.32495117188\n",
            "1997-10-01 00:00:00 1607.32604980469\n",
            "1997-09-01 00:00:00 1611.61901855469\n",
            "1997-08-01 00:00:00 1710.02502441406\n",
            "1997-07-01 00:00:00 1591.5869140625\n",
            "1997-06-01 00:00:00 1567.1904296875\n",
            "1997-05-01 00:00:00 1625.44995117188\n",
            "1997-04-01 00:00:00 1561.11364746094\n",
            "1997-03-01 00:00:00 1631.18420410156\n",
            "1997-02-01 00:00:00 1582.05297851563\n",
            "1997-01-01 00:00:00 1575.13635253906\n",
            "1996-12-01 00:00:00 1500.97619628906\n",
            "1996-11-01 00:00:00 1451.04760742188\n",
            "1996-10-01 00:00:00 1336.02172851563\n",
            "1996-09-01 00:00:00 1405.76196289063\n",
            "1996-08-01 00:00:00 1466.78576660156\n",
            "1996-07-01 00:00:00 1460.02172851563\n",
            "1996-06-01 00:00:00 1485.75\n",
            "1996-05-01 00:00:00 1593.85717773438\n",
            "1996-04-01 00:00:00 1587.40002441406\n",
            "1996-03-01 00:00:00 1614.85717773438\n",
            "1996-02-01 00:00:00 1594.57141113281\n",
            "1996-01-01 00:00:00 1584.47619628906\n",
            "1995-12-01 00:00:00 1657.81579589844\n",
            "1995-11-01 00:00:00 1655.92858886719\n",
            "1995-10-01 00:00:00 1671.95458984375\n",
            "1995-09-01 00:00:00 1761.72497558594\n",
            "1995-08-01 00:00:00 1890.04541015625\n",
            "1995-07-01 00:00:00 1867.27502441406\n",
            "1995-06-01 00:00:00 1775.79541015625\n",
            "1995-05-01 00:00:00 1765.47619628906\n",
            "1995-04-01 00:00:00 1849.44445800781\n",
            "1995-03-01 00:00:00 1799.97827148438\n",
            "1995-02-01 00:00:00 1905.44995117188\n",
            "1995-01-01 00:00:00 2059.35717773438\n",
            "1994-12-01 00:00:00 1878.375\n",
            "1994-11-01 00:00:00 1885.88635253906\n",
            "1994-10-01 00:00:00 1694.26196289063\n",
            "1994-09-01 00:00:00 1571.09094238281\n",
            "1994-08-01 00:00:00 1457.06823730469\n",
            "1994-07-01 00:00:00 1491.95239257813\n",
            "1994-06-01 00:00:00 1402.36364746094\n",
            "1994-05-01 00:00:00 1321.04760742188\n",
            "1994-04-01 00:00:00 1277.28942871094\n",
            "1994-03-01 00:00:00 1287.69567871094\n",
            "1994-02-01 00:00:00 1270.52502441406\n",
            "1994-01-01 00:00:00 1170.0\n",
            "1993-12-01 00:00:00 1091.34997558594\n",
            "1993-11-01 00:00:00 1040.02270507813\n",
            "1993-10-01 00:00:00 1089.42858886719\n",
            "1993-09-01 00:00:00 1116.90905761719\n",
            "1993-08-01 00:00:00 1172.76196289063\n",
            "1993-07-01 00:00:00 1203.18176269531\n",
            "1993-06-01 00:00:00 1168.09094238281\n",
            "1993-05-01 00:00:00 1125.42102050781\n",
            "1993-04-01 00:00:00 1110.27502441406\n",
            "1993-03-01 00:00:00 1150.47827148438\n",
            "1993-02-01 00:00:00 1203.15002441406\n",
            "1993-01-01 00:00:00 1208.09997558594\n",
            "1992-12-01 00:00:00 1209.02380371094\n",
            "1992-11-01 00:00:00 1162.21435546875\n",
            "1992-10-01 00:00:00 1180.84106445313\n",
            "1992-09-01 00:00:00 1270.21435546875\n",
            "1992-08-01 00:00:00 1305.55004882813\n",
            "1992-07-01 00:00:00 1314.34790039063\n",
            "1992-06-01 00:00:00 1275.27270507813\n",
            "1992-05-01 00:00:00 1306.71069335938\n",
            "1992-04-01 00:00:00 1317.125\n",
            "1992-03-01 00:00:00 1282.02270507813\n",
            "1992-02-01 00:00:00 1270.75\n",
            "1992-01-01 00:00:00 1181.22729492188\n",
            "1991-12-01 00:00:00 1099.5263671875\n",
            "1991-11-01 00:00:00 1134.92504882813\n",
            "1991-10-01 00:00:00 1152.95458984375\n",
            "1991-09-01 00:00:00 1212.09521484375\n",
            "1991-08-01 00:00:00 1259.693359375\n",
            "1991-07-01 00:00:00 1297.54663085938\n",
            "1991-06-01 00:00:00 1283.55004882813\n",
            "1991-05-01 00:00:00 1299.94995117188\n",
            "1991-04-01 00:00:00 1392.0\n",
            "1991-03-01 00:00:00 1496.0\n",
            "1991-02-01 00:00:00 1505.0\n",
            "1991-01-01 00:00:00 1515.0\n",
            "1990-12-01 00:00:00 1522.0\n",
            "1990-11-01 00:00:00 1618.0\n",
            "1990-10-01 00:00:00 1946.0\n",
            "1990-09-01 00:00:00 2067.0\n",
            "1990-08-01 00:00:00 1782.0\n",
            "1990-07-01 00:00:00 1571.0\n",
            "1990-06-01 00:00:00 1566.0\n",
            "1990-05-01 00:00:00 1527.0\n",
            "1990-04-01 00:00:00 1526.0\n",
            "1990-03-01 00:00:00 1567.0\n",
            "1990-02-01 00:00:00 1454.0\n",
            "1990-01-01 00:00:00 1528.0\n"
          ]
        }
      ]
    },
    {
      "cell_type": "code",
      "source": [],
      "metadata": {
        "id": "qMk1dBSmSQbk"
      },
      "execution_count": null,
      "outputs": []
    }
  ]
}
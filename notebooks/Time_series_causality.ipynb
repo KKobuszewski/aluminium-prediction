{
  "nbformat": 4,
  "nbformat_minor": 0,
  "metadata": {
    "colab": {
      "provenance": [],
      "authorship_tag": "ABX9TyN0OqQU3BT09RHzBnA2fTAw",
      "include_colab_link": true
    },
    "kernelspec": {
      "name": "python3",
      "display_name": "Python 3"
    },
    "language_info": {
      "name": "python"
    }
  },
  "cells": [
    {
      "cell_type": "markdown",
      "metadata": {
        "id": "view-in-github",
        "colab_type": "text"
      },
      "source": [
        "<a href=\"https://colab.research.google.com/github/KKobuszewski/aluminium-prediction/blob/main/notebooks/Time_series_causality.ipynb\" target=\"_parent\"><img src=\"https://colab.research.google.com/assets/colab-badge.svg\" alt=\"Open In Colab\"/></a>"
      ]
    },
    {
      "cell_type": "markdown",
      "source": [
        "# Crosscorelation\n",
        "\n",
        "https://www.google.com/amp/s/www.datainsightonline.com/amp/cross-correlation-with-two-time-series-in-python"
      ],
      "metadata": {
        "id": "qGOMIDAn82PQ"
      }
    },
    {
      "cell_type": "code",
      "source": [],
      "metadata": {
        "id": "A2QB_R9f9L8q"
      },
      "execution_count": null,
      "outputs": []
    },
    {
      "cell_type": "markdown",
      "source": [
        "\n",
        "# Transfer entropy\n",
        "\n",
        "https://www.kaggle.com/code/singh2299/transfer-entropy-causal\n",
        "\n",
        "https://pablomflores.com/transfer-entropy/"
      ],
      "metadata": {
        "id": "4foozCIu3NX7"
      }
    },
    {
      "cell_type": "code",
      "execution_count": null,
      "metadata": {
        "colab": {
          "base_uri": "https://localhost:8080/"
        },
        "id": "8oP-C--c1Zr6",
        "outputId": "9bce88c6-935a-4599-a119-b3a56c18058f"
      },
      "outputs": [
        {
          "output_type": "stream",
          "name": "stdout",
          "text": [
            "Collecting copent\n",
            "  Downloading copent-0.5.1-py3-none-any.whl (17 kB)\n",
            "Requirement already satisfied: numpy in /usr/local/lib/python3.10/dist-packages (from copent) (1.25.2)\n",
            "Requirement already satisfied: scipy in /usr/local/lib/python3.10/dist-packages (from copent) (1.11.4)\n",
            "Installing collected packages: copent\n",
            "Successfully installed copent-0.5.1\n"
          ]
        }
      ],
      "source": [
        "!pip install copent"
      ]
    },
    {
      "cell_type": "code",
      "source": [
        "import copent"
      ],
      "metadata": {
        "id": "peS7sdAU3M3K"
      },
      "execution_count": null,
      "outputs": []
    },
    {
      "cell_type": "code",
      "source": [
        "te = np.zeros(24)\n",
        "for lag in range(1,25):\n",
        " te[lag-1] = transent(data[:,0],data[:,1],lag)"
      ],
      "metadata": {
        "id": "dsC-MlAu4ImF"
      },
      "execution_count": null,
      "outputs": []
    }
  ]
}